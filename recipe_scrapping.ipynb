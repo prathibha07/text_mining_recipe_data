{
  "nbformat": 4,
  "nbformat_minor": 0,
  "metadata": {
    "colab": {
      "name": "recipe_scrapping.ipynb",
      "provenance": [],
      "collapsed_sections": []
    },
    "kernelspec": {
      "name": "python3",
      "display_name": "Python 3"
    },
    "language_info": {
      "name": "python"
    }
  },
  "cells": [
    {
      "cell_type": "markdown",
      "source": [
        "# Text Mining Student Specialist  for UW libraries\n",
        "* Prathibha Ramachandran\n",
        "\n"
      ],
      "metadata": {
        "id": "iLVsTC_G7r6-"
      }
    },
    {
      "cell_type": "code",
      "source": [
        "import requests\n",
        "from bs4 import BeautifulSoup\n",
        "import csv\n",
        "import pandas as pd\n",
        "import numpy as np"
      ],
      "metadata": {
        "id": "IdAUivquIIxI"
      },
      "execution_count": 1,
      "outputs": []
    },
    {
      "cell_type": "code",
      "source": [
        "# from google.colab import drive\n",
        "# drive.mount(\"/content/drive\", force_remount=True)"
      ],
      "metadata": {
        "id": "EuM_zRsXXenr"
      },
      "execution_count": null,
      "outputs": []
    },
    {
      "cell_type": "markdown",
      "source": [
        "1) Web scraping is performed using a python library called beautiful soup \n",
        "* collected few url food links\n",
        "* extracted the title of the recipe and the ingredients list from each page\n",
        "* created a  list of 100 recipes\n",
        "\n",
        "\n",
        "\n"
      ],
      "metadata": {
        "id": "eWRWsIUc5iEV"
      }
    },
    {
      "cell_type": "code",
      "source": [
        "class Recipe():\n",
        "  def __init__(self, url):\n",
        "    self.url = url\n",
        "    \n",
        "    page = BeautifulSoup(requests.get(self.url).content, 'html.parser')\n",
        "\n",
        "    self.name = page.find(\"h1\").text\n",
        "    \n",
        "    self.ingredients = []\n",
        "    items = page.find_all(\"li\", {\"class\":\"wprm-recipe-ingredient\"})\n",
        "    for item in items:\n",
        "      self.ingredients.append(item.text.strip().lower())\n",
        "\n",
        "  @staticmethod\n",
        "  def is_recipe_page(url):\n",
        "    page = BeautifulSoup(requests.get(url).content, 'html.parser')\n",
        "    items = page.find_all(\"li\", {\"class\":\"wprm-recipe-ingredient\"})\n",
        "    \n",
        "    return(len(items) > 0)\n",
        "\n"
      ],
      "metadata": {
        "id": "irthO2Z1s0JK"
      },
      "execution_count": 2,
      "outputs": []
    },
    {
      "cell_type": "code",
      "source": [
        "seed_urls =  [\n",
        "             \"https://rainbowplantlife.com/category/recipes/vegan-breakfast/\",\n",
        "             \"https://rainbowplantlife.com/category/recipes/lunch/\",\n",
        "             \"https://rainbowplantlife.com/category/recipes/dinner/\",\n",
        "             \"https://rainbowplantlife.com/category/recipes/dessert/\",\n",
        "             \"https://rainbowplantlife.com/category/recipes/instant-pot-recipes/\",\n",
        "              \"https://rainbowplantlife.com/category/recipes/side-dishes/\"\n",
        "]\n"
      ],
      "metadata": {
        "id": "xMhXkN3xBd0c"
      },
      "execution_count": 3,
      "outputs": []
    },
    {
      "cell_type": "code",
      "source": [
        "seen_urls = set()\n",
        "recipe_list = []\n",
        "\n",
        "for seed_url in seed_urls:\n",
        "  print(\"Collected recipes: %d\" % len(recipe_list))\n",
        "  if len(recipe_list) >= 100:\n",
        "    break\n",
        "  \n",
        "  page = requests.get(seed_url)\n",
        "  # BeautifulSoup enables to find the elements/tags in a webpage \n",
        "  html = BeautifulSoup(page.text, \"html.parser\")\n",
        "\n",
        "  for link in html.find_all('a'):\n",
        "      url = link.get('href')\n",
        "      if url in seen_urls: \n",
        "        continue\n",
        "      if url.startswith(\"https://rainbowplantlife.com/\"):\n",
        "        if Recipe.is_recipe_page(url):\n",
        "          recipe_list.append(Recipe(url))\n",
        "        else:\n",
        "          if url not in seen_urls:\n",
        "            seed_urls.append(url)\n",
        "\n",
        "      seen_urls.add(url) \n",
        "      "
      ],
      "metadata": {
        "colab": {
          "base_uri": "https://localhost:8080/"
        },
        "id": "kd6RSs2BCCIO",
        "outputId": "0ad5d659-22cf-43da-b1bf-82861b98ecbc"
      },
      "execution_count": 4,
      "outputs": [
        {
          "output_type": "stream",
          "name": "stdout",
          "text": [
            "Collected recipes: 0\n",
            "Collected recipes: 19\n",
            "Collected recipes: 38\n",
            "Collected recipes: 51\n",
            "Collected recipes: 69\n",
            "Collected recipes: 82\n",
            "Collected recipes: 98\n",
            "Collected recipes: 101\n"
          ]
        }
      ]
    },
    {
      "cell_type": "code",
      "source": [
        "# saving raw data\n",
        "with open('rawData.csv', 'w') as outfile:\n",
        "    # using csv.writer method from CSV package\n",
        "    write = csv.writer(outfile)\n",
        "    write.writerow(['url', 'name', 'ingredient'])\n",
        "    for recipe in recipe_list:\n",
        "      # saving url, name, ingredient to csv \n",
        "      for ingredient in recipe.ingredients: \n",
        "        write.writerow([recipe.url, recipe.name, ingredient])\n"
      ],
      "metadata": {
        "id": "oV5HL0lbCTni"
      },
      "execution_count": 5,
      "outputs": []
    },
    {
      "cell_type": "markdown",
      "source": [
        "2) Removing some stopwords for data cleaning\n",
        "\n",
        "* Note : tried to use nltk library, didn't give good results as it just contains English words appearing coomnly. \n",
        "But the food websites have there own commonly occuring words used in the \"food domain\" which needs a differ stop words set. So I created a custom stop words set which takes care of this\n",
        "* Took care to remove digits "
      ],
      "metadata": {
        "id": "GvJf3sStd7yh"
      }
    },
    {
      "cell_type": "code",
      "source": [
        "#from nltk.corpus import stopwords\n",
        "#nltk_stop_words = set(stopwords.words(\"english\"))\n",
        "\n",
        "ingredients_stop_words = set([\n",
        "                  'teaspoon', 'block', 'strongly', 'brewed', 'dusting', '~', '//', 'fresh', 'paste',\n",
        "                  'large', 'baked', 'fresh', 'medium', 'as needed', 'crushed with a press finely', 'divided',\n",
        "                  'flaky coarse', 'drained', 'liquid from a chickpeas', 'oil choice', 'freshly grated', 'fat',\n",
        "                  'grated crushed', 'unsweetened', 'heaping','diced', 'medium', 'specially selected', 'extra virgin',\n",
        "                  'juiced (about', 'golden', 'sliced in quarters', 'pint', 'cold','large', 'cracked', \n",
        "                  '(unsweetened, plain)', 'finely (use jalapeño a milder version pepper)', 'simply nature extra virgin',\n",
        "                  'rinsed drained', '“lite”', 'smooth, creamy', 'your', 'several cracks freshly cracked',\n",
        "                  'tablespoon', 'certified', 'torn', 'half', 'see below', 'fine', 'ground', 'finely',\n",
        "                  'cup', 'taste', '-', 'ish', 'chop' , 'to', 'for', 'batch', 'simply nature' , 'raw', \n",
        "                  'ml', 'zest', 'plus', 'finish', '/', '-', '- -', '+ +', 'pure extract', 'extract',\n",
        "                  'pinch', 'handful', 'minced', 'or', 'your favorite', 'pure', 'drained rinsed',\n",
        "                   'optional', 'an', 'the', 'of', '+', 'inch', 'cm', '½' , '¼','⅓','freshly squeezed', ','\n",
        "])\n",
        "\n",
        "stop_words = ingredients_stop_words #| nltk_stop_words"
      ],
      "metadata": {
        "id": "qZBMcnWLsnYv"
      },
      "execution_count": 6,
      "outputs": []
    },
    {
      "cell_type": "code",
      "source": [
        "def to_clean(ingredient):\n",
        "  # taking care of numbers\n",
        "  if any(c.isdigit() for c in ingredient):\n",
        "    return True\n",
        "  for stop_word in stop_words:\n",
        "    if stop_word in ingredient:\n",
        "      return True\n",
        "  return False"
      ],
      "metadata": {
        "id": "-sIWR4R-mEHr"
      },
      "execution_count": 7,
      "outputs": []
    },
    {
      "cell_type": "code",
      "source": [
        "def clean_ingredient(ingredient):\n",
        "  words = ingredient.split()\n",
        "  cleaned = [w for w in words if not to_clean(w)]\n",
        "  return ' '.join(cleaned)"
      ],
      "metadata": {
        "id": "-7Ck4esPmc5P"
      },
      "execution_count": 8,
      "outputs": []
    },
    {
      "cell_type": "code",
      "source": [
        "import csv\n",
        "cleaned_ingredient_list = []\n",
        "with open('cleanedData.csv', 'w') as outfile:\n",
        "    # using csv.writer method from CSV package\n",
        "    write = csv.writer(outfile)\n",
        "    write.writerow(['url', 'name', 'ingredient'])\n",
        "    for recipe in recipe_list:\n",
        "      # url, name, ingredient\n",
        "      for ingredient in recipe.ingredients: \n",
        "        write.writerow([recipe.url, recipe.name, clean_ingredient(ingredient)])\n",
        "        cleaned_ingredient_list.append(clean_ingredient(ingredient))"
      ],
      "metadata": {
        "id": "O6FZ3CQ2gxsi"
      },
      "execution_count": 9,
      "outputs": []
    },
    {
      "cell_type": "markdown",
      "source": [
        "3) Counting the top ingredients and proportion\n",
        "* For this I created a dictinary with all the ingredietns and then sorted the top ingredients.\n",
        "* Found the proportion using the count value of the ingredients/ total len of the csv file\n"
      ],
      "metadata": {
        "id": "zi8vqjxfYoSE"
      }
    },
    {
      "cell_type": "code",
      "source": [
        "total_len = len(cleaned_ingredient_list) # total len of csv\n",
        "print(total_len) "
      ],
      "metadata": {
        "colab": {
          "base_uri": "https://localhost:8080/"
        },
        "id": "OpYJ0BhveTMP",
        "outputId": "ce163616-1e60-494d-f69b-3dc54916f61e"
      },
      "execution_count": 10,
      "outputs": [
        {
          "output_type": "stream",
          "name": "stdout",
          "text": [
            "2173\n"
          ]
        }
      ]
    },
    {
      "cell_type": "code",
      "source": [
        "ingredient_count = {i:cleaned_ingredient_list.count(i) for i in cleaned_ingredient_list}\n",
        "ingredient_dict = dict(sorted(ingredient_count.items(), key=lambda item: item[1], reverse = True))\n",
        "print(ingredient_dict)"
      ],
      "metadata": {
        "colab": {
          "base_uri": "https://localhost:8080/"
        },
        "id": "fOuF-2z1YnmD",
        "outputId": "0dec8817-1fa0-4b6a-8e07-07c3c96f6e33"
      },
      "execution_count": 11,
      "outputs": [
        {
          "output_type": "stream",
          "name": "stdout",
          "text": [
            "{'': 116, 'black pepper': 68, 'kosher salt': 46, 'sea salt': 45, 'garlic': 31, 'cinnamon': 30, 'nutritional yeast': 27, 'maple syrup': 23, 'extra virgin olive oil': 23, 'cumin': 22, 'simply nature extra virgin olive oil': 20, 'water': 19, 'ginger': 19, 'rinsed': 17, 'baking powder': 17, 'yellow': 17, 'kosher salt sea salt': 16, 'vegetable broth': 16, 'cloves': 15, 'lemon juice': 15, 'baking soda': 14, 'onion powder': 14, 'olive oil': 13, 'turmeric': 13, 'kosher': 12, 'red pepper flakes': 12, 'smoked paprika': 11, 'squeezed lemon juice': 11, 'lemon': 11, 'flour': 11, 'dried': 10, 'garlic powder': 10, 'sugar': 10, 'garam masala': 10, 'bay leaf': 10, 'paprika': 9, 'garlic roughly': 9, 'tahini': 9, 'cashews': 9, 'kosher salt black pepper': 9, 'squeezed lime juice': 9, 'apple cider vinegar': 8, 'grated nutmeg': 8, 'cumin seeds': 8, 'lime juice': 7, 'allspice': 7, 'chili powder': 7, 'dijon mustard': 7, 'piece grated': 7, 'bay leaves': 7, 'coconut milk': 7, 'walnuts': 6, 'extra virgin olive': 6, 'arrowroot powder': 6, 'leaves tender': 6, 'grated ginger': 6, 'sweet': 5, 'brown sugar': 5, 'lime': 5, 'seeds': 5, 'as needed': 5, 'squeezed juice': 5, 'simply nature avocado oil': 5, 'sauce': 5, 'butter': 5, 'sesame oil': 5, 'red onion': 4, 'rolled oats as needed)': 4, 'shredded coconut': 4, 'sea salt kosher salt': 4, 'ounces': 4, 'powdered sugar': 4, 'thinly sliced': 4, 'coconut sugar brown sugar': 4, 'garlic crushed with a press': 4, 'cayenne pepper': 4, 'white miso': 4, 'flaky coarse sea salt': 4, 'soy sauce tamari': 4, 'sweet hot paprika': 4, 'aquafaba liquid from a chickpeas)': 4, 'almond': 4, 'coconut oil oil choice)': 4, 'hot': 3, 'chia seeds': 3, 'sliced': 3, 'flaxseed meal': 3, 'oat milk choice': 3, 'cacao powder cocoa powder': 3, 'ice as needed': 3, 'white yellow miso': 3, 'basil leaves': 3, 'rolled oats': 3, 'coconut oil': 3, 'nutmeg': 3, 'a sea salt': 3, 'ice water': 3, 'whole peeled crushed by': 3, 'red wine vinegar': 3, 'leaves tender stems': 3, 'ketchup': 3, '⅛ cayenne pepper': 3, 'basil slivered': 3, 'thyme sprigs': 3, 'flour**': 3, '¾ kosher salt': 3, 'whole cumin seeds': 3, 'oil choice': 3, 'parsley leaves tender stems': 3, 'small': 3, 'regular': 3, 'cacao nibs': 3, 'ounces chocolate chips dark chocolate': 3, 'crushed': 3, 'packed brown sugar': 3, 'tsp sea salt': 3, 'flaky sea salt': 3, 'distilled white vinegar': 3, 'oat milk*': 2, 'creamy almond butter': 2, 'dried thyme': 2, 'kosher sea salt': 2, 'black': 2, 'maple': 2, 'small juiced': 2, 'white sesame seeds': 2, 'juiced': 2, 'avocado': 2, 'creamy almond butter cashew butter**': 2, 'crushed as needed': 2, 'grated as needed': 2, 'black pepper**': 2, 'hemp seeds': 2, 'dates dried fruit (see “substitutes” section in blog post)': 2, 'shelled pistachios': 2, 'firm': 2, 'chipotle chile flakes (crushed chipotle chilies)': 2, 'kala namak (aka black': 2, 'generous tahini': 2, 'milk such as almond': 2, 'olive oil cooking oil choice': 2, 'coconut yogurt plain)': 2, 'salsa': 2, 'several cracks black pepper': 2, 'pickled jalapeños pickled jalapeño brine': 2, '(use jalapeño a milder version pepper)': 2, 'garlic grated crushed': 2, 'flour flouring surface': 2, 'milk': 2, 'ice cream': 2, 'roughly': 2, 'cacao powder': 2, 'celery': 2, 'juiced (about': 2, '(peeled not)': 2, 'specially selected maple syrup': 2, 'garlic thinly sliced': 2, 'raisins': 2, 'whole cloves': 2, 'a': 2, 'sea': 2, 'ripe avocados': 2, 'garlic crushed': 2, 'lime serving': 2, 'cherry sliced in quarters': 2, 'leaves': 2, 'black rinsed': 2, 'loosely packed basil leaves': 2, 'red pepper': 2, 'pine nuts': 2, 'ounce earth grown extra firm': 2, 'chipotle peppers in adobo sauce': 2, 'sugar brown sugar': 2, 'lots black pepper': 2, 'a juiced': 2, 'balsamic vinegar': 2, 'soy sauce': 2, 'a two cayenne pepper': 2, 'molasses': 2, 'aleppo pepper red pepper flakes)': 2, 'lemons*': 2, 'garlic left whole peeled': 2, 'rosemary sprig': 2, 'water vegetable broth)': 2, 'crushed red pepper flakes aleppo pepper)': 2, 'bread serving': 2, 'tamari soy sauce': 2, 'ounce) coconut milk': 2, 'ounces pasta choice': 2, 'coarse flaky sea salt': 2, 'extra firm': 2, 'small roughly': 2, 'squeezed lemon juice lime juice': 2, 'avocado oil oil choice': 2, 'milk choice': 2, 'serving)': 2, 'small garlic': 2, 'whole seeds': 2, 'grated': 2, 'squeezed lemon': 2, 'water as needed': 2, 'powdered sifted': 2, 'stick at room temperature': 2, 'simply nature sugar': 2, 'cardamom': 2, 'whipped coconut whipped cream': 2, 'spooned leveled weighed (see “tips section”)': 2, 'oat milk milk)': 2, 'sunflower oil oil)': 2, 'unsulphured molasses (not blackstrap molasses)': 2, 'cream sauce (recipe below)': 2, 'coconut cream*': 2, 'coconut melted': 2, 'almond flour almond meal': 2, 'blueberries': 2, 'tbsp coconut melted': 2, 'flour****': 2, 'arrowroot powder)': 2, 'white': 2, 'curry powder': 2, 'vegetable broth*': 2, 'serving coconut flatbread rice': 2, 'thyme': 2, 'agave nectar': 2, 'garlic cloves crushed': 2, 'piece': 2, 'shallot a small red': 2, 'whites light green parts (dark green sliced on a bias reserved': 2, 'green bell pepper': 2, 'sambal oelek sauce': 2, 'small head cut': 2, 'grated crushed with a press)': 2, 'kashmiri red chili powder (mild chili powder)': 2, 'rosemary': 2, 'medjool pitted in': 1, 'extra': 1, 'a cayenne pepper': 1, 'strip peel': 1, 'sweet (however you': 1, 'juice lemon': 1, 'hummus homemade) use as much as you': 1, 'shredded': 1, 'tahini**': 1, 'crisp peeled (i used fuji apples)': 1, 'cardamom cloves': 1, 'natural almond butter': 1, 'coconut yogurt yogurt choice)': 1, 'cherry grape halved': 1, 'red bell pepper yellow)': 1, 'loosely packed': 1, 'ounce) firm': 1, 'kala namak (black salt)* but gives that classic eggy': 1, 'sour cream': 1, 'natural butter': 1, 'a berries (i used': 1, 'coconut flakes shredded coconut': 1, 'frozen raspberries': 1, 'tightly packed such as mint also use carrot baby etc.)': 1, 'extra virgin olive oil substitute up with water)': 1, 'dried roughly thyme': 1, 'creamy variety almond butter sub cashew butter)': 1, 'dried fruit mini chocolate chips) such as blueberries*': 1, 'sunflower nuts choice': 1, 'hemp seeds (also called hemp hearts)': 1, 'whole wheat pastry flour**': 1, 'pumpkin': 1, 'butter serving****': 1, 'oil choice cooking': 1, 'maple syrup serving': 1, 'flour (use gf as needed)': 1, 'queso sauce (recipe below)': 1, 'eggy scramble (recipe below)': 1, 'crispy roasted (recipe below)': 1, 'pico de gallo (recipe below)': 1, 'hot sauce serving (i like cholula tapatio)': 1, 'ounces yukon gold peeled as evenly as possible cubes': 1, 'regular olive oil avocado oil)': 1, 'tbsp aquafaba': 1, 'sunflower oil': 1, 'tbsp brown loosely packed': 1, 'pumpkin (i recommend not using pumpkin)*': 1, 'spooned leveled (see “tips” section above)': 1, 'cream cheese icing': 1, 'maple tahini icing': 1, 'pepitas pistachios)': 1, 'at room temperature': 1, 'ounces cream at room temperature': 1, 'tbsp powdered sifted': 1, 'tahini***': 1, 'sweet (about ounces': 1, 'creamy milk (something like oat coconut cashew soy milk macadamia nut milk; use a milk as needed)': 1, 'ripe frozen': 1, 'maple syrup sweeten': 1, 'melted dark chocolate coconut whipped cream nondairy whipped': 1, 'cubed chilled until very firm': 1, 'flaky sea salt black pepper': 1, 'small bunch asparagus (try choose spears that aren’t thick': 1, 'a small dill': 1, 'juiced (about juice)': 1, 'shelling shelled': 1, 'a small basil thinly sliced': 1, 'a few sprigs dill': 1, 'aquafaba (liquid from a chickpeas)': 1, 'in': 1, 'milk (i use oat milk)': 1, 'silken': 1, 'stems removed; keep cut berries in': 1, 'a squeeze lime juice a bit lime': 1, 'spelt flour sub flour)': 1, 'country crock cubed chilled until very firm': 1, '– frozen blackberries': 1, '– – sugar*': 1, 'a few basil mint slivered': 1, 'almond flour*': 1, 'almond milk milk': 1, 'yogurt**': 1, 'maple syrup***': 1, 'ripe mashed': 1, 'melted coconut oil neutral oil choice)': 1, 'coconut brown sugar': 1, 'melted coconut oil (melted neutral oil choice)': 1, 'soy milk*': 1, 'very strong (espresso water)**': 1, 'shelled hemp seeds (also known as hemp hearts)': 1, 'a couple ginger***': 1, 'maple syrup**': 1, 'blackstrap molasses': 1, 'arrowroot powder***': 1, 'flour (i used this': 1, 'almond flour**': 1, 'grated nutmeg***': 1, 'tsp cloves but recommended)': 1, 'small very ripe': 1, 'kabocha squash (instructions make be found in step': 1, 'almond milk milk*****': 1, 'avocado oil******': 1, 'coconut sugar brown sugar (use coconut sugar keep': 1, 'cinnamon walnut streusel': 1, 'brown sugar coconut sugar (use coconut sugar keep recipe': 1, 'almond flour': 1, 'solid coconut oil (use oil avoid coconutty': 1, 'almond milk*': 1, 'lemon juice**': 1, 'almond flour***': 1, 'each: cloves': 1, 'pumpkin (homemade from a': 1, '– chocolate chips': 1, 'serving: maple coconut whipped walnuts': 1, 'extra virgin olive oil neutral cooking oil choice': 1, 'sliced (i recommend a crisp such as gala)*': 1, 'loaf french bread (about sliced (not thick thin) pieces**': 1, 'oat milk creamy milk)': 1, 'ounces silken': 1, 'extra virgin olive oil but adds a nice rich body)': 1, 'sunflower grapeseed oil': 1, 'yogurt whipped': 1, 'hearts rinsed': 1, '(i used sir': 1, 'spicy brown regular mustard': 1, 'celery seeds': 1, 'sweet pickle': 1, 'crumbled substitute with dulse flakes)': 1, 'serving: slices hearty whole grain sliced baguette (use bread a option)': 1, 'romaine leaf sliced shaved sliced dill pickles': 1, 'apple cider vinegar white vinegar a mixture both)': 1, 'maple syrup sugar)': 1, 'whole': 1, 'cumin seeds*': 1, '⅔ ¾ vegetable broth': 1, 'french green lentils': 1, 'tamari (depends on how salty vegetable broth is)': 1, 'pearled sub such as millet brown rice)': 1, 'bay leaves seasoning)': 1, 'black pepper seasoning)': 1, 'garlic sliced in seasoning)': 1, '¾ cooked chickpeas': 1, 'serving: extra virgin olive paprika.': 1, 'pound baby quartered (peel left on)*': 1, 'french green lentils (puy lentils)': 1, 'bouquet garni: bay leaves a few sprigs each tied tightly with kitchen twine**': 1, 'black pepper pepper': 1, 'aged balsamic vinegar****': 1, 'pound baby quartered (peel left on)': 1, 'french green lentils (aka puy lentils)': 1, 'bouquet garni: bay leaves a few sprigs each tied tightly with kitchen twine*': 1, 'aged balsamic vinegar***': 1, 'small green cabbage a cabbage': 1, 'small butternut squash pounds)': 1, 'simply nature kale': 1, 'peeled ribboned with a vegetable peeler*': 1, ') rinsed': 1, '¾ dijon mustard': 1, '¾ dried': 1, 'whole unsalted**': 1, 'simply nature light agave nectar': 1, 'grapeseed oil': 1, 'sliced on bias*': 1, 'a roughly ounces': 1, 'kosher salt & black pepper': 1, '– red chili powder**': 1, '¾ dry white wine***': 1, 'vegetable broth a little as needed)': 1, 'coconut stirred well': 1, 'whole green cardamom pods': 1, 'fennel seeds': 1, 'cinnamon sticks long)': 1, '¾ leaves': 1, 'lemon juice (a few squeezes)': 1, 'coconut yogurt yogurt': 1, 'white brown flatbread such as roti': 1, 'ceviche salad (recipe below)': 1, 'guacamole (recipe below)': 1, 'hard taco shells recipe below)': 1, 'dulse flakes (if not you substitute this with a sheet roasted you’ll need grind up in a spice grinder food': 1, 'hearts thinly sliced in rounds': 1, 'ounces cherry grape quartered': 1, 'a small red': 1, 'jalapeño (use mild heat)': 1, 'tightly packed': 1, 'juicy juiced': 1, 'add a two cayenne pepper)': 1, 'taco holder tray': 1, 'salad (recipe below)': 1, 'crema (recipe below)': 1, 'refried black recipe below)': 1, 'substitute flour if not': 1, 'hard taco shells (i used which are you also try taco shells such as this; try homemade taco shells in third recipe below)': 1, 'a small red thinly sliced': 1, 'small jalapeño peppers thinly sliced rounds)': 1, 'ears': 1, 'water thin as needed': 1, 'hemp seeds (also known as hemp hearts)': 1, 'jalapeño roughly (remove seeds mild use peppers a spicy version)': 1, 'extra virgin olive oil but adds a nice richness)': 1, '– vegetable liquid': 1, 'garlic cloves thinly sliced clove grated crushed through a press': 1, 'preserved lemon peel see note below)*': 1, 'aleppo pepper red pepper flakes)**': 1, 'sundried': 1, 'baby roughly': 1, 'pine': 1, 'mini cucumbers cucumber)': 1, 'ripe but firm sliced': 1, 'one basil slivered': 1, 'very thinly sliced': 1, 'small jalapeño thinly sliced rounds (use pepper moderate heat; remove seeds mild heat)': 1, 'extra virgin olive grilling': 1, 'ears husked': 1, 'cherry': 1, '– ¾ leaves tender': 1, 'ripe chunks': 1, 'romaine hearts center leaves romaine)': 1, 'simply nature avocado oil simply nature extra virgin olive oil)': 1, 'pickled red onions (see pickled thinly sliced red onion': 1, 'simple nature cashews': 1, 'parsley leaves': 1, 'red sliced as thinly as you': 1, 'apple cider vinegar distilled white vinegar': 1, 'maple syrup sugar': 1, 'mushroom caps': 1, 'l’oven sesame hamburger buns': 1, 'lettuce leaves sliced sliced red onion pickled sliced pickles': 1, 'sliced red onion': 1, 'pickled pickled jalapeños': 1, 'sliced avocado': 1, 'simply nature ketchup spicy brown': 1, 'mustard choice: spicy brown': 1, 'vegetables cut pieces (such as bell red summer peppers)*': 1, 'pound pineapple spears': 1, 'ounces ridged pasta)': 1, 'links sausage (i like beyond meat field roast': 1, 'olive as needed': 1, 'marinara sauce': 1, 'baby spinach baby kale': 1, 'basil (slivered) parsley': 1, 'tempeh': 1, 'grapeseed oil avocado oil cooking': 1, 'bbq sauce (recipe below) (about bbq sauce)': 1, 'sauce*': 1, 'liquid smoke**': 1, 'red beets (about': 1, 'fennel bulbs (reserve fronds salad)': 1, 'extra virgin olive oil roasting)': 1, 'bread crumbs**': 1, 'flaky coarse sea': 1, 'cooked (if rinsed)**': 1, 'it peel & cut pieces salad)': 1, 'ripe cut small chunks': 1, 'dijon mustard whole grain': 1, '⅛ sweet hot paprika': 1, 'maple syrup (only if needed tartness)': 1, 'ounces fettuccine': 1, 'bunch asparagus (about sliced thinly on diagonal pieces**': 1, 'roasted crushed': 1, '(leaves tender': 1, 'sliced in olives)****': 1, 'navy white rinsed': 1, 'ounces but sturdy rustic bread*': 1, 'pounds cherry grape sliced in': 1, 'shallots ounces peeled sliced rings': 1, 'thyme leaves**': 1, '¾ parsley leaves': 1, 'dried red chili broken in sub with red pepper flakes)': 1, 'uncooked': 1, 'sprigs rosemary': 1, 'sprigs': 1, '(i prefer': 1, 'if desired)': 1, 'cauliflower cut': 1, 'head cauliflower cut': 1, '¾ kosher': 1, 'olive': 1, 'leeks leeks': 1, 'ounces mixed mushrooms (see “ingredient rundown” section which variety i used)': 1, 'thyme roughly dried thyme': 1, 'dry white such as pinot grigio sauvignon': 1, 'dijon mustard mustard': 1, 'olive oil*': 1, 'sweet onion yellow onion': 1, 'sticks': 1, 'crushed red pepper flakes': 1, 'vegetable broth**': 1, 'bouquet garni: bay leaves sprig sage small sprigs tied tightly with kitchen twine': 1, 'yukon gold (about ounces peeled': 1, 'rinsed cooked': 1, 'artichoke': 1, 'small head center rib removed shredded (about small bunch)': 1, 'loosely packed parsley leaves': 1, \"lemons (i prefer since we're using peel)\": 1, 'such as grapeseed oil': 1, 'ounces washed well stems removed': 1, 'soaked in boiling water hour (if blender isn’t i recommend soaking in cool water overnight hours)': 1, 'garlic peeled but left whole': 1, 'piece peeled roughly': 1, 'stem removed (remove seeds a mild heat)': 1, 'coconut oil choice': 1, 'fenugreek also known as methi': 1, 'white rice flatbread such as paratha': 1, '(about': 1, 'grapeseed oil avocado oil oil choice)': 1, 'red yellow)': 1, 'small this makes it spicy! omit mild moderate heat)': 1, 'plum roma': 1, 'kashmiri red chile powder*': 1, 'cooked white brown rice': 1, 'ounces frozen udon noodles*': 1, 'small bell thinly sliced': 1, '¾ leaves tender': 1, 'sliced on a bias': 1, 'ounces frozen defrosted': 1, '⅛ sea salt': 1, 'oil (such as grapeseed avocado oil)': 1, 'chile flakes red pepper flakes': 1, 'garlic crushed with a garlic press': 1, 'roughly (unsalted is': 1, 'chinese black vinegar**': 1, 'maple syrup agave nectar': 1, 'black mustard seeds sub brown mustard seeds)': 1, 'dried curry leaves': 1, 'sugar coconut sugar': 1, 'small cauliflower cut small': 1, 'previously frozen defrosted**': 1, 'sea salt tsp diamond crystal kosher salt)': 1, 'baby': 1, 'cooked white brown flatbread choice': 1, 'previously frozen defrosted*': 1, 'lemon juice apple cider vinegar': 1, 'arrowroot powder**': 1, 'bread crumbs***': 1, 'extra virgin olive drizzling': 1, 'sprig rosemary but recommended)': 1, 'dried red chili pepper substitute with red pepper flakes)': 1, 'rinsed equal': 1, 'creamy such as oat milk coconut milk': 1, 'a whole peeled': 1, 'ounces such as etc.': 1, 'earth grown extra firm': 1, 'simply nature extra virgin olive oil*': 1, '⅛ cayenne pepper spicy)': 1, 'grove shelled pistachios (unsalted salted)*': 1, 'lemon as needed': 1, 'head garlic': 1, 'green cabbage heads': 1, 'small yellow quartered': 1, 'roasted garlic (from recipe above)': 1, 'roasted onion wedges (from recipe above)': 1, 'roasted cabbage (from recipe above)': 1, 'soaked in boiling water minutes*': 1, 'as needed**': 1, 'specially selected brown basmati rice': 1, 'grove shelled pistachios (unsalted salted)': 1, 'two cayenne pepper': 1, 'sea salt (omit if using salted pistachios)': 1, 'simply nature kale (as much as you': 1, 'peeled': 1, 'tsp red pepper flakes': 1, 'parsley leaves tender': 1, 'sage': 1, '(in a not a': 1, '¾ dry white wine**': 1, 'vegetable as desired': 1, 'slivered***': 1, 'butternut squash': 1, 'regular olive oil avocado oil roasting': 1, 'olive oil (you will need oil if not using a nonstick': 1, 'roughly sage leaves': 1, 'roughly rosemary leaves': 1, 'dry red wine (such as pinot malbec)': 1, 'green brown lentils': 1, '⅔ vegetable broth': 1, 'roasted butternut squash (from scooped out halves)': 1, 'water vegetable as needed thin sauce': 1, 'salt pepper': 1, 'heads cauliflower*': 1, 'shelled roasted pistachios**': 1, 'very thinly sliced (about thick)***': 1, 'garlic thinly sliced (try slice as evenly as possible even cooking)': 1, 'well stirred****': 1, '(remove less heat)': 1, 'homemade chili powder (recipe chili powder*': 1, 'dry red such as syrah pinot noir': 1, 'navy small white rinsed': 1, 'cocoa powder (i prefer dutch process cocoa powder)': 1, 'tamari soy sauce if you have you use that': 1, 'chipotle peppers in peppers measure out adobo sauce**': 1, 'whole peeled crushed by (include juices)': 1, 'kosher salt as needed': 1, 'maple as needed***': 1, 'red wine vinegar apple cider vinegar)': 1, 'masa harina flour)': 1, 'sour cream avocado': 1, 'sliced scallions': 1, 'shredded cheese queso': 1, 'quick pickled red onions****': 1, 'peppers*': 1, 'guajillo peppers*': 1, 'chiles de arbol**': 1, 'garlic powder garlic': 1, 'onion powder onion': 1, 'creamy yogurt*': 1, 'garlic crushed with a press grated': 1, 'grapeseed oil cooking': 1, 'green cardamom (black seeds only; discard pods)': 1, 'cinnamon sticks***': 1, 'fenugreek aka methi but recommended)****': 1, 'red chile powder***** (use amount a milder heat)': 1, 'grapeseed oil oil': 1, 'whole dried red chilies (if not you sub with tsp red pepper omit less heat)': 1, 'red onion small red': 1, 'thinly sliced pepper – only spicy spicy version)*******': 1, 'red chile powder** (use amount a milder heat)': 1, 'pound': 1, 'stems leaves (save leaves': 1, 'fenugreek leaves aka methi but recommended)***': 1, 'cooked white rice such as roti': 1, 'yogurt dollop on but adds a nice cooling': 1, 'earth grown': 1, 'a small green red cabbage a cabbage (about': 1, 'carrots about': 1, 'simply nature creamy butter': 1, 'agave nectar maple syrup': 1, 'soy sauce (use tamari': 1, 'squeeze lime juice': 1, 'loosely packed (leaves tender omit stems)': 1, 'simply nature roasted cashews': 1, 'garlic powder garlic roughly': 1, 'small jalapeño pepper a jalapeño cut in': 1, 'water only as needed': 1, 'i used la style': 1, 'salsa choice i used simply nature thick & chunky hot salsa': 1, 'pound french green cut pieces*': 1, 'scallions sliced thinly**': 1, 'garlic cloves thinly sliced': 1, 'red pepper flakes i use': 1, 'lemon end': 1, 'medjool dates about dates': 1, 'almonds)': 1, 'smooth almond butter': 1, 'ounces coconut cream*': 1, 'ounces dark roughly (i like using': 1, 'coconut oil coconut oil will bring a coconutty': 1, 'about dates) medjool dates': 1, 'a few sprinkles flaky sea salt': 1, 'raspberries berries': 1, 'aquafaba*': 1, 'very ripe ripe (this last one is': 1, 'sunflower olive oil': 1, 'brown sugar coconut sugar ***': 1, 'spooned leveled (see tips as well as substitutes section)': 1, 'unbleached flour': 1, 'lemon (about lemons)': 1, 'almond milk use oat milk soy milk)': 1, 'squeezed lemon juice (about lemons)': 1, 'poppy seeds': 1, 'frozen blackberries': 1, 'grated ginger (use a bit a prominent ginger': 1, 'room temperature': 1, 'ounces cream cheese': 1, '⅔ hazelnuts': 1, 'ounces sweetened condensed coconut milk*': 1, 'ounces dark chocolate chips chunks': 1, '(not artificial)***': 1, 'milk (i used this oat milk)': 1, 'sunflower melted coconut oil*': 1, 'raspberries***': 1, 'raspberry jam (recipe below)': 1, 'buttercream frosting (recipe below)': 1, 'raspberries frozen raspberries': 1, 'ounces cream at room temperature*': 1, 'friendly farms oatmilk': 1, 'baker’s all purpose flour': 1, 'pound hulled cut in quarters if': 1, 'aquafaba (liquid from a use unsalted chickpeas)': 1, 'sugar sugar': 1, 'ounces dark roughly': 1, 'cubed': 1, 'dutch process cocoa powder*': 1, '¾ sea salt': 1, 'espresso powder**': 1, 'ounces dark bittersweet chocolate dark chocolate': 1, 'sliced apples fruit skewers': 1, 'dark chocolate bars': 1, 'chocolate': 1, 'mini cookies brownies': 1, 'snacks salted nuts)': 1, 'such as nutella coconut whip': 1, 'pound with stems washed dried': 1, 'ounces pretzel rods': 1, 'medjool dates (about dates)': 1, 'sub almonds': 1, 'tahini sub smooth butter': 1, 'sprinkles': 1, 'soaked in boiling water hour*': 1, 'creamy milk (i use oat milk)': 1, 'ounces bourbon': 1, 'coconut cream refrigerated hours longer*': 1, 'pumpkin purée': 1, 'almond butter': 1, 'reserved crust crumble': 1, 'coconut oil nonstick cooking spray greasing': 1, 'oat flour': 1, 'arrowroot powder substitute tapioca starch)': 1, 'cut cubes': 1, 'soaked in boiling water hour': 1, 'coconut cream scoop solid from a coconut milk)*': 1, 'agave nectar maple syrup)': 1, 'melted coconut oil': 1, 'trimmed sliced very thinly': 1, 'hazelnuts': 1, 'rolled oats*': 1, 'packed medjool pits removed ounces)**': 1, 'cacao cocoa powder': 1, 'melted coconut oil***': 1, 'chocolate chips dark chocolate)': 1, 'flaky sea salt but recommended': 1, 'loosely packed brown sugar': 1, 'grated nutmeg*': 1, 'salt': 1, 'milk choice (i used oat milk)': 1, 'stick country crock melted': 1, 'oil (i used sunflower oil)': 1, 'added apple juice': 1, 'applesauce': 1, 'note: this cake isn’t sweet on its own so icing is a delicious but if you are watching sugar feel free omit.': 1, 'squeezed juice sub lemon juice a slightly tart icing)': 1, 'pound ripe but relatively firm peaches': 1, 'coconut sugar brown sugar)': 1, 'nutmeg (i recommend grated nutmeg)': 1, 'country crock butter': 1, 'kosher salt is based on saltiness butter; i used a use less if using sea salt instead)': 1, 'oat milk (i used oatly)': 1, 'serving: ice cream': 1, 'nectarines': 1, 'cooking spray pot': 1, 'brown sugar sugar': 1, '– cardamom': 1, 'rolled oats if needed)': 1, 'ounces gingersnap cookies': 1, 'shredded coconut sub coconut flakes)': 1, 'macadamia nuts substitute with': 1, 'sea salt (if macadamia nuts are be very sparing with salt)': 1, 'tbsp maple syrup': 1, 'soaked in water hours overnight': 1, 'refrigerated coconut cream (i used coconut but you also scoop out thick white from a refrigerated coconut milk)': 1, 'oz cream cheese': 1, 'tbsp squeezed lemon juice': 1, 'tbsp arrowroot powder': 1, 'tsp': 1, 'tbsp coconut rum': 1, 'oz crushed pineapple crushed juice reserved': 1, 'small pineapple)': 1, 'coconut': 1, 'stick country crock cubed chilled in freezer until very firm': 1, 'old fashioned rolled oats': 1, 'coconut sugar use brown sugar)': 1, 'about': 1, 'ounces raspberries raspberries)': 1, 'coconut sugar brown sugar)***': 1, 'raspberry jam preserves*****': 1, 'cooked rinsed': 1, 'cauliflower': 1, 'redhot cayenne pepper sauce xtra hot sauce**': 1, 'smoked paprika regular paprika***': 1, 'plain almond milk nondairy milk': 1, 'nutritional yeast****': 1, 'green onions': 1, 'chips crackers': 1, 'jackfruit (in water brine)*': 1, 'black mustard seeds substitute brown mustard seeds)': 1, 'red chili powder***': 1, 'dried curry leaves curry leaves)': 1, 'water (use water version)': 1, 'sweet (about ounces peeled cubes cubes version)': 1, 'baby kale baby roughly': 1, 'serving: white basmati rice flatbread': 1, 'ears sweet frozen kernels': 1, 'jalapeño (omit seeds less heat)': 1, 'stalks': 1, 'pound yukon gold peeled': 1, 'celery salt': 1, 'halved': 1, 'reserved kernels': 1, 'chives': 1, 'red bell pepper': 1, 'slivered basil leaves': 1, 'french green puy soaked hours*': 1, 'bell': 1, 'pearl israeli couscous': 1, 'small bunch dill (about': 1, 'leaf': 1, 'pitted green sliced': 1, 'cherry halved quartered': 1, 'olive oil as if not using nonstick': 1, 'jalapeño (omit seeds mild heat)': 1, 'paprika*': 1, 'cocoa powder cacao powder)': 1, 'pound about sweet peeled': 1, 'chipotle peppers in adobo sauce from but this is what makes chili smoky spicy; note – this is not but just peppers from omit entirely if you are very sensitive spicy food; use just chipotle pepper a moderate heat)': 1, 'masa harina': 1, 'but recommended': 1, 'dried soaked overnight*': 1, 'fennel bulb with fronds**': 1, 'thyme leaves stripped': 1, 'brown rice (about': 1, 'baby spinach kale greens roughly': 1, 'bunch sliced': 1, 'garlic mined': 1, 'pounds sweet peeled cut cubes': 1, 'roma plum': 1, 'red curry (use less if sensitive spicy food)': 1, 'red rinsed': 1, 'tamari soy sauce if not': 1, 'agave coconut brown sugar': 1, 'extra coconut milk a pretty thinly sliced thinly sliced chili peppers': 1, 'ounces dried white such as great soaked overnight*': 1, 'celery sliced': 1, 'yukon gold grated**': 1, 'vegetable broth***': 1, 'cumin (use tsp if you love cumin like i do)': 1, 'bouquet garni: bay leaves a few sprigs parsley tied tightly with kitchen twine': 1, '– kosher salt': 1, 'leaves stems': 1, 'garlic peeled left whole': 1, 'small lemon': 1, 'serving lemon extra virgin olive crusty bread': 1, 'adds some heat)': 1, 'sweet peeled cut a dice': 1, 'red rinsed until water runs clear': 1, 'trimmed (light green white parts only)**': 1, 'dried thyme***': 1, 'red pepper flakes omit if sausage is spicy)': 1, 'ounces cut': 1, '– water': 1, 'kale': 1, 'ounces sausage': 1, 'lemon juice but adds a nice peppy at end)': 1, 'lentils (see recipe notes details on varieties)': 1, 'water vegetable broth': 1, 'seasonings as desired (bay dried whole garlic etc.)': 1, 'pepper with seeds (omit seeds mild version; use peppers a spicy version)': 1, 'red chile powder (use a spicy version; sub with amount cayenne pepper)': 1, 'vegetable broth water)': 1, 'black beluga lentils': 1, 'coconut yogurt serving)': 1, 'brown lentils green lentils': 1, 'small thyme sprigs': 1, 'lemon juice serving)': 1, '(remove seeds mild version)': 1, 'sweet peeled cut dice': 1, 'red lentils': 1, 'chickpeas cooked chickpeas)': 1, 'pieces lasagna noodles broken small pieces': 1, 'bouquet garni: bay leaves a few sprigs each tied tightly with kitchen twine': 1, 'pumpkin (not pumpkin pie)': 1, 'cloves roughly': 1, 'grated lemon': 1, 'squeezed lemon juice (about lemon)': 1, 'ribs': 1, 'ounces mixed sliced': 1, 'ounces dried soaked minutes': 1, 'uncooked wild rice (not a “wild rice blend”)': 1, 'bouquet garni: dried bay leaves a few sprigs each sage tied in a bundle with kitchen twine (see video instructions)': 1, 'creamy milk (i used coconut milk; you could also use oat milk)': 1, 'butternut squash (about pounds kg)': 1, 'olive oil avocado roasting pasta': 1, 'soaked in cool water overnight in boiling water hour': 1, 'nutritional yeast (makes extra cheesy but you use it will still be good)': 1, 'dry mustard powder but adds a nice sharp': 1, 'mellow white yellow miso': 1, 'tapioca flour (see “frequently asked questions” section substitutes)': 1, 'ounces elbow macaroni (see “frequently asked questions” section notes on how make this recipe': 1, 'tbsp bread crumbs': 1, 'melted': 1, 'pounds sweet': 1, 'country crock at room temperature': 1, 'sesame': 1, 'a few red pepper flakes': 1, 'sesame seeds*': 1, 'furikake gomasio': 1, 'a red thinly sliced': 1, 'small jalapeño thinly sliced': 1, 'lime extra lime': 1, 'ears (about kernels)': 1, 'navy rinsed': 1, 'ripe': 1, 'ounces sturdy chips*': 1, 'queso (recipe card below)': 1, 'saucy refried (recipe card below)': 1, 'taco meat (recipe card below)': 1, 'guacamole (recipe card below) avocado**': 1, 'pico de gallo (recipe card below) salsa***': 1, 'a few sour cream use homemade recipe below)': 1, 'pickled onions recipe card below': 1, 'roughly mushrooms (we used cremini)': 1, 'soy sauce tamari*': 1, 'avocado oil': 1, 'cayenne pepper (use ⅛ less heat)': 1, 'olive oil oil choice': 1, 'jalapeno': 1, \"black (keep don't drain)\": 1, '– vegetable broth only as needed': 1, 'juicy lime juiced': 1, 'jalapeño add a two cayenne pepper)': 1, 'red onion sliced as thinly as possible*': 1, 'sugar maple syrup': 1, 'soaked overnight hours*': 1, 'white vinegar': 1, 'coconut yogurt (i used this one)': 1, 'flour rice flour***': 1, 'as needed****': 1, 'vegetable oil oil deep frying': 1, 'bread crumbs crunch)': 1, 'garlic thinly sliced (try slice as evenly as possible even cooking)*': 1, 'aleppo ¾ red pepper flakes**': 1, 'small parsley': 1, 'pounds yukon gold': 1, 'sprig sage leaves)': 1, 'sprigs thyme': 1, 'sprig rosemary': 1, 'oat milk': 1, 'black black pepper)': 1, 'butter extra virgin olive': 1, 'dijon mustard***': 1, 'white miso at room temperature****': 1, '¾ but recommended)*****': 1, 'big chives': 1, 'butter extra virgin olive oil (i used butter)': 1, 'shallots shallots)': 1, 'ounces brown (cremini) shiitake sliced': 1, 'milk choice sub veggie broth)': 1, 'dry red wine (such as pinot merlot)': 1, 'vegetable at room temperature warm': 1, 'soy sauce tamari (use tamari gf)': 1, 'white miso (aka shiro miso)': 1, 'balsamic vinegar red wine vinegar)': 1, 'pounds peeled': 1, 'red sliced wedges': 1, 'grove dates grove pitted dates*': 1, 'grove pistachios (unsalted salted)**': 1, 'a salt': 1, 'grove pepitas***': 1, 'oat milk**': 1, 'yellow white is my preference)***': 1, 'melted greasing skillet': 1, 'extra virgin olive oil oil choice': 1, 'brown sugar*****': 1, 'butter;': 1, 'maple butter: butter maple syrup': 1, '⅔ lukewarm water (water needs be at': 1, 'active dry yeast': 1, 'grapeseed oil oil oil': 1, 'but recommended)': 1, 'cloves grated': 1, 'pounds kg) baby mini': 1, 'diamond crystal kosher salt** sea season': 1, 'extra virgin olive oil***': 1, 'scallions sliced thinly on a bias': 1, 'sliced thinly on a bias (use jalapeño less heat)': 1, 'mint leaves thai basil': 1, 'roasted': 1, 'soaked in water overnight hours boiled in water on minutes': 1, 'apple cider vinegar with shake bottle evenly distribute': 1, 'garlic powder (do not use garlic!)*': 1, 'sea as needed': 1, 'white miso brought room temperature': 1, 'ounces french rustic cut cubes': 1, 'ripe heirloom cut pieces': 1, 'small red very thinly sliced': 1, 'balsamic vinegar*': 1, 'pounds baby red fingerling new': 1, 'ounces coconut yogurt*': 1, 'yellow mustard': 1, 'celery seeds but recommended)**': 1, 'dill': 1, 'caper brine****': 1, 'thinly sliced shaved red onions': 1, 'jalapeño thinly sliced (this is keep seeds in a spicy kick)': 1, 'chives thinly sliced scallions)': 1, 'pickle juice distilled white vinegar)*': 1, 'a lemon**': 1, '¾ onion powder': 1}\n"
          ]
        }
      ]
    },
    {
      "cell_type": "code",
      "source": [
        "def proportion(ingredient_dict): \n",
        "  for key in ingredient_dict.keys(): \n",
        "    proportion = (ingredient_dict[key]/ total_len)\n",
        "    proportion = '{:.4f}'.format(proportion)\n",
        "    return proportion"
      ],
      "metadata": {
        "id": "P0cBZ_v3cEBS"
      },
      "execution_count": 12,
      "outputs": []
    },
    {
      "cell_type": "code",
      "source": [
        "# saving dictionary results to the result csv\n",
        "with open('result.csv', 'w') as f:\n",
        "    for key in ingredient_dict.keys():\n",
        "        f.write(\"%s,%s,%s\\n,\"%(key,ingredient_dict[key], proportion(ingredient_dict)))"
      ],
      "metadata": {
        "id": "lX-z5JEBkMEj"
      },
      "execution_count": 13,
      "outputs": []
    }
  ]
}